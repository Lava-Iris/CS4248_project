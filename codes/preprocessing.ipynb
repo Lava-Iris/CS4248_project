{
 "cells": [
  {
   "cell_type": "code",
   "execution_count": 1,
   "metadata": {},
   "outputs": [],
   "source": [
    "import numpy as np\n",
    "import pandas as pd\n",
    "import matplotlib.pyplot as plt\n",
    "import seaborn as sns\n",
    "\n",
    "from sklearn.model_selection import train_test_split\n",
    "\n",
    "import spacy\n",
    "\n",
    "import torch\n",
    "import torchtext\n",
    "from torchtext.vocab import vocab\n",
    "\n",
    "import os\n",
    "from os.path import join\n",
    "from collections import Counter, OrderedDict\n",
    "from tqdm import tqdm\n",
    "import pickle as pkl\n",
    " \n",
    "spacy.prefer_gpu()\n",
    "nlp = spacy.load('en_core_web_lg')"
   ]
  },
  {
   "cell_type": "code",
   "execution_count": 2,
   "metadata": {},
   "outputs": [
    {
     "data": {
      "text/html": [
       "<div>\n",
       "<style scoped>\n",
       "    .dataframe tbody tr th:only-of-type {\n",
       "        vertical-align: middle;\n",
       "    }\n",
       "\n",
       "    .dataframe tbody tr th {\n",
       "        vertical-align: top;\n",
       "    }\n",
       "\n",
       "    .dataframe thead th {\n",
       "        text-align: right;\n",
       "    }\n",
       "</style>\n",
       "<table border=\"1\" class=\"dataframe\">\n",
       "  <thead>\n",
       "    <tr style=\"text-align: right;\">\n",
       "      <th></th>\n",
       "      <th>class</th>\n",
       "      <th>text</th>\n",
       "    </tr>\n",
       "  </thead>\n",
       "  <tbody>\n",
       "    <tr>\n",
       "      <th>0</th>\n",
       "      <td>1</td>\n",
       "      <td>A little less than a decade ago, hockey fans w...</td>\n",
       "    </tr>\n",
       "    <tr>\n",
       "      <th>1</th>\n",
       "      <td>1</td>\n",
       "      <td>The writers of the HBO series The Sopranos too...</td>\n",
       "    </tr>\n",
       "    <tr>\n",
       "      <th>2</th>\n",
       "      <td>1</td>\n",
       "      <td>Despite claims from the TV news outlet to offe...</td>\n",
       "    </tr>\n",
       "    <tr>\n",
       "      <th>3</th>\n",
       "      <td>1</td>\n",
       "      <td>After receiving 'subpar' service and experienc...</td>\n",
       "    </tr>\n",
       "    <tr>\n",
       "      <th>4</th>\n",
       "      <td>1</td>\n",
       "      <td>After watching his beloved Seattle Mariners pr...</td>\n",
       "    </tr>\n",
       "  </tbody>\n",
       "</table>\n",
       "</div>"
      ],
      "text/plain": [
       "   class                                               text\n",
       "0      1  A little less than a decade ago, hockey fans w...\n",
       "1      1  The writers of the HBO series The Sopranos too...\n",
       "2      1  Despite claims from the TV news outlet to offe...\n",
       "3      1  After receiving 'subpar' service and experienc...\n",
       "4      1  After watching his beloved Seattle Mariners pr..."
      ]
     },
     "execution_count": 2,
     "metadata": {},
     "output_type": "execute_result"
    }
   ],
   "source": [
    "raw_train_path = \"../raw_data/fulltrain.csv\"\n",
    "\n",
    "with open(raw_train_path) as f:\n",
    "    df_train = pd.read_csv(f, names=['class', 'text'])\n",
    "df_train.head()"
   ]
  },
  {
   "cell_type": "code",
   "execution_count": 3,
   "metadata": {},
   "outputs": [],
   "source": [
    "df_train.drop_duplicates(inplace=True,ignore_index=True)\n",
    "\n",
    "train_texts = df_train['text'].values\n",
    "train_labels = df_train['class'].values"
   ]
  },
  {
   "cell_type": "code",
   "execution_count": 4,
   "metadata": {},
   "outputs": [],
   "source": [
    "# load stopwords\n",
    "stop_words_path = \"../raw_data/stopwords_en.txt\"\n",
    "\n",
    "with open(stop_words_path) as file:\n",
    "    stop_words = file.read().splitlines()\n",
    "stop_words = set(stop_words)  # convert to dictionary to speed up searching"
   ]
  },
  {
   "cell_type": "markdown",
   "metadata": {},
   "source": [
    "### Tokenization & Get frequency dict"
   ]
  },
  {
   "cell_type": "code",
   "execution_count": 5,
   "metadata": {},
   "outputs": [
    {
     "name": "stderr",
     "output_type": "stream",
     "text": [
      "  0%|          | 0/48652 [00:00<?, ?it/s]"
     ]
    },
    {
     "name": "stderr",
     "output_type": "stream",
     "text": [
      "100%|██████████| 48652/48652 [56:23<00:00, 14.38it/s]  \n"
     ]
    }
   ],
   "source": [
    "def preprocess(docs:list[str]) -> list[list[str]]:\n",
    "    \"\"\"clean and tokenize the data\"\"\"\n",
    "    \"\"\"remove stopwords, oov words and punctuations\"\"\"\n",
    "    \n",
    "    processed_docs = []\n",
    "    with tqdm(total=len(docs)) as progress_bar:\n",
    "        for doc in nlp.pipe(docs):\n",
    "            tokens = []\n",
    "            for token in doc:\n",
    "                if token.text in stop_words or token.is_punct or token.is_oov:\n",
    "                    continue\n",
    "                else:\n",
    "                    tokens.append(token.text.lower())\n",
    "            processed_docs.append(tokens)\n",
    "            # update the progress bar\n",
    "            progress_bar.update(1)\n",
    "    return processed_docs\n",
    "\n",
    "tokenized_text = preprocess(train_texts)"
   ]
  },
  {
   "cell_type": "code",
   "execution_count": 11,
   "metadata": {},
   "outputs": [],
   "source": [
    "# save the results\n",
    "\n",
    "# path = \"../processed_data/train_tokenized\"\n",
    "# with open(path, 'wb') as f:\n",
    "#     pkl.dump(tokenized_text, f)"
   ]
  },
  {
   "cell_type": "code",
   "execution_count": 12,
   "metadata": {},
   "outputs": [
    {
     "name": "stderr",
     "output_type": "stream",
     "text": [
      "  0%|          | 0/48652 [00:00<?, ?it/s]"
     ]
    },
    {
     "name": "stderr",
     "output_type": "stream",
     "text": [
      "100%|██████████| 48652/48652 [00:02<00:00, 21276.30it/s]\n"
     ]
    }
   ],
   "source": [
    "# calculate token frequency\n",
    "def text_iterator(texts):\n",
    "    for text in texts:\n",
    "        yield text\n",
    "\n",
    "freq_dict = Counter()\n",
    "with tqdm(total=len(tokenized_text)) as progress_bar:\n",
    "    for text in text_iterator(tokenized_text):\n",
    "        freq_dict.update(text)\n",
    "        progress_bar.update(1)"
   ]
  },
  {
   "cell_type": "markdown",
   "metadata": {},
   "source": [
    "### Get the vocabulary"
   ]
  },
  {
   "cell_type": "markdown",
   "metadata": {},
   "source": [
    "First, let's calculate the needed size of the vocabulary"
   ]
  },
  {
   "cell_type": "code",
   "execution_count": 13,
   "metadata": {},
   "outputs": [
    {
     "name": "stdout",
     "output_type": "stream",
     "text": [
      "The first 21785 words covers 95% of the corpus\n"
     ]
    }
   ],
   "source": [
    "def cal_vocab_size(freq_dict, cover_rate=0.95):\n",
    "    \"\"\"calculate the needed vocabulary size\"\"\"\n",
    "    sorted_freq = sorted(freq_dict.values(),reverse=True)\n",
    "    total_freq = sum(sorted_freq)\n",
    "    cumulative_freq = 0\n",
    "    vocab_size = 0\n",
    "    for freq in sorted_freq:\n",
    "        vocab_size += 1\n",
    "        cumulative_freq += freq\n",
    "        if cumulative_freq >= total_freq * cover_rate:\n",
    "            break\n",
    "    print(f'The first {vocab_size} words covers {int(100*cover_rate)}% of the corpus')\n",
    "\n",
    "cal_vocab_size(freq_dict)"
   ]
  },
  {
   "cell_type": "markdown",
   "metadata": {},
   "source": [
    "It seems that 25000 could be a good choice."
   ]
  },
  {
   "cell_type": "code",
   "execution_count": 14,
   "metadata": {},
   "outputs": [
    {
     "data": {
      "image/png": "[encoded data removed]",
      "text/plain": [
       "<Figure size 1200x600 with 1 Axes>"
      ]
     },
     "metadata": {},
     "output_type": "display_data"
    }
   ],
   "source": [
    "def plot_cum_token_frequency(freq_dict,top_k=25000):\n",
    "    sorted_freq = sorted(freq_dict.values(),reverse=True)\n",
    "    cum_freq = np.cumsum(sorted_freq) / np.sum(sorted_freq)\n",
    "    # plot_params = {\"axes.spines.right\": False, \"axes.spines.top\": False}\n",
    "    # sns.set_theme(style=\"whitegrid\", rc=plot_params)\n",
    "    sns.set_style('whitegrid')\n",
    "    plt.figure(figsize=(12, 6))\n",
    "    \n",
    "    plt.plot(cum_freq,c='k')\n",
    "    plt.scatter(top_k,cum_freq[top_k],c='r',zorder=2)\n",
    "    plt.vlines(top_k, 0, cum_freq[top_k], colors='r', linestyles='dashed')\n",
    "    plt.hlines(cum_freq[top_k], 0, top_k, colors='r', linestyles='dashed')\n",
    "\n",
    "    plt.xlim(-1000,len(freq_dict))\n",
    "    plt.ylim(0,1.05)\n",
    "    plt.title('Cumulative Frequency of Tokens',fontsize=15)\n",
    "    plt.xlabel('Token Frequency Rank')\n",
    "    plt.ylabel('Cumulative Frequency')\n",
    "\n",
    "    plt.text(top_k+5000,cum_freq[top_k], f'Top {top_k} tokens\\n Cumulative Freq: {cum_freq[top_k]:.3f}',\n",
    "         verticalalignment='top', horizontalalignment='left')\n",
    "    \n",
    "    plt.grid(True)\n",
    "\n",
    "    # plt.savefig('Cumulative Frequency of Tokens.svg', format='svg')\n",
    "\n",
    "plot_cum_token_frequency(freq_dict)"
   ]
  },
  {
   "cell_type": "markdown",
   "metadata": {},
   "source": [
    "Then let's create and save the vocabulary"
   ]
  },
  {
   "cell_type": "code",
   "execution_count": 15,
   "metadata": {},
   "outputs": [],
   "source": [
    "top_k = 25000\n",
    "sorted_freq_dict = sorted(freq_dict.items(), key=lambda x:x[1], reverse=True)\n",
    "\n",
    "sorted_freq_dict = OrderedDict(sorted_freq_dict[:top_k])\n",
    "\n",
    "# special tokens\n",
    "PAD_TOKEN = '<PAD>'\n",
    "UNK_TOKEN = '<UNK>'\n",
    "\n",
    "SPECIALS = [PAD_TOKEN, UNK_TOKEN]\n",
    "\n",
    "vocabulary = vocab(sorted_freq_dict, specials=SPECIALS)\n",
    "vocabulary.set_default_index(vocabulary[UNK_TOKEN])"
   ]
  },
  {
   "cell_type": "code",
   "execution_count": 16,
   "metadata": {},
   "outputs": [],
   "source": [
    "# save the vocabulary\n",
    "file_name = f\"../processed_data/remove-stopwords-punct-{top_k}.vocab\"\n",
    "\n",
    "torch.save(vocabulary, file_name)"
   ]
  },
  {
   "cell_type": "markdown",
   "metadata": {},
   "source": [
    "### Vectorize the dataset"
   ]
  },
  {
   "cell_type": "markdown",
   "metadata": {},
   "source": [
    "First let's check the distribution of lengths."
   ]
  },
  {
   "cell_type": "code",
   "execution_count": 17,
   "metadata": {},
   "outputs": [
    {
     "data": {
      "text/plain": [
       "count    48652.000000\n",
       "mean       304.073337\n",
       "std        525.388700\n",
       "min          0.000000\n",
       "25%         84.000000\n",
       "50%        160.000000\n",
       "75%        404.000000\n",
       "max      66580.000000\n",
       "dtype: float64"
      ]
     },
     "execution_count": 17,
     "metadata": {},
     "output_type": "execute_result"
    }
   ],
   "source": [
    "text_lens = pd.Series([len(text) for text in tokenized_text])\n",
    "text_lens.describe()"
   ]
  },
  {
   "cell_type": "code",
   "execution_count": 20,
   "metadata": {},
   "outputs": [
    {
     "name": "stderr",
     "output_type": "stream",
     "text": [
      "c:\\Users\\Tim\\anaconda3\\envs\\py310_gpu\\lib\\site-packages\\pandas\\core\\arraylike.py:396: RuntimeWarning: divide by zero encountered in log2\n",
      "  result = getattr(ufunc, method)(*inputs, **kwargs)\n"
     ]
    },
    {
     "data": {
      "image/png": "[encoded data removed]",
      "text/plain": [
       "<Figure size 640x480 with 1 Axes>"
      ]
     },
     "metadata": {},
     "output_type": "display_data"
    }
   ],
   "source": [
    "plt.boxplot(np.log2(text_lens))\n",
    "plt.show()"
   ]
  },
  {
   "cell_type": "markdown",
   "metadata": {},
   "source": [
    "Apparently outliers exist. Most of the texts' lengths are between 8 and 4096. I chose to remove the texts whose lengths are under 8 and truncate the texts whose lengths are greater than 4096."
   ]
  },
  {
   "cell_type": "code",
   "execution_count": 23,
   "metadata": {},
   "outputs": [],
   "source": [
    "def vectorize(docs, labels, vocab, max_len=4096):\n",
    "    \"\"\"convert tokens of texts into indices\"\"\"\n",
    "    \"\"\"remove texts whose lengths < 8\"\"\"\n",
    "    \"\"\"truncate texts whose lengths > 4096\"\"\"\n",
    "    train_vecs = []\n",
    "    train_labels = []\n",
    "    for i,text in enumerate(docs):\n",
    "        if len(text) > 8:\n",
    "            if len(text) > max_len:  # truncate the text\n",
    "                text_vec = text_vec[:max_len]\n",
    "            text_vec = vocab.lookup_indices(text)\n",
    "            train_vecs.append(text_vec)\n",
    "            train_labels.append(labels[i])\n",
    "    return train_vecs, train_labels"
   ]
  },
  {
   "cell_type": "code",
   "execution_count": 24,
   "metadata": {},
   "outputs": [],
   "source": [
    "train_vecs, train_labels = vectorize(tokenized_text, train_labels, vocab=vocabulary)"
   ]
  },
  {
   "cell_type": "markdown",
   "metadata": {},
   "source": [
    "Let's have a check"
   ]
  },
  {
   "cell_type": "code",
   "execution_count": 25,
   "metadata": {},
   "outputs": [
    {
     "name": "stdout",
     "output_type": "stream",
     "text": [
      "[24, 122, 1291, 242, 5516]\n",
      "['a', 'little', 'decade', 'ago', 'hockey']\n"
     ]
    }
   ],
   "source": [
    "print(train_vecs[0][:5])\n",
    "print(vocabulary.lookup_tokens(train_vecs[0][:5]))"
   ]
  },
  {
   "cell_type": "code",
   "execution_count": 26,
   "metadata": {},
   "outputs": [],
   "source": [
    "# split training and validation sets\n",
    "X_train,X_val,y_train,y_val = train_test_split(train_vecs,train_labels,test_size=0.3,random_state=2024,stratify=train_labels)\n",
    "\n",
    "# save the results\n",
    "train_name = \"../processed_data/train.pickle\"\n",
    "val_name = \"../processed_data/val.pickle\"\n",
    "\n",
    "with open(train_name, 'wb') as f:\n",
    "    pkl.dump((X_train,y_train), f)\n",
    "\n",
    "with open(val_name, 'wb') as f:\n",
    "    pkl.dump((X_val,y_val), f)"
   ]
  },
  {
   "cell_type": "markdown",
   "metadata": {},
   "source": [
    "### process test set"
   ]
  },
  {
   "cell_type": "code",
   "execution_count": 27,
   "metadata": {},
   "outputs": [
    {
     "name": "stderr",
     "output_type": "stream",
     "text": [
      "100%|██████████| 3000/3000 [04:11<00:00, 11.92it/s]\n"
     ]
    }
   ],
   "source": [
    "raw_test_path = '../raw_data/balancedtest.csv'\n",
    "with open(raw_test_path) as f:\n",
    "    df_test = pd.read_csv(f, names=['class', 'text'])\n",
    "\n",
    "test_texts = df_test['text'].values\n",
    "test_labels = df_test['class'].values\n",
    "\n",
    "test_texts_tokenized = preprocess(test_texts)\n",
    "X_test, y_test = vectorize(test_texts_tokenized, test_labels, vocabulary)\n",
    "\n",
    "# save the results\n",
    "test_name = \"../processed_data/test.pickle\"\n",
    "with open(test_name, 'wb') as f:\n",
    "    pkl.dump((X_test,y_test), f)"
   ]
  }
 ],
 "metadata": {
  "kernelspec": {
   "display_name": "py310_gpu",
   "language": "python",
   "name": "python3"
  },
  "language_info": {
   "codemirror_mode": {
    "name": "ipython",
    "version": 3
   },
   "file_extension": ".py",
   "mimetype": "text/x-python",
   "name": "python",
   "nbconvert_exporter": "python",
   "pygments_lexer": "ipython3",
   "version": "3.10.13"
  }
 },
 "nbformat": 4,
 "nbformat_minor": 2
}
