{
  "cells": [
    {
      "cell_type": "code",
      "execution_count": 3,
      "metadata": {
        "colab": {
          "base_uri": "https://localhost:8080/"
        },
        "id": "k7wyWiuQyoPt",
        "outputId": "05b9b08e-2911-4e64-d0cb-da9896e0051b"
      },
      "outputs": [
        {
          "output_type": "stream",
          "name": "stdout",
          "text": [
            "The autoreload extension is already loaded. To reload it, use:\n",
            "  %reload_ext autoreload\n"
          ]
        }
      ],
      "source": [
        "import numpy as np\n",
        "from functools import partial\n",
        "\n",
        "import torch\n",
        "from torch import nn\n",
        "from torch.nn import functional as F\n",
        "\n",
        "import sys\n",
        "sys.path.append('/content/drive/MyDrive/CS4248_project-main/codes')\n",
        "\n",
        "%load_ext autoreload\n",
        "%autoreload 2\n",
        "%aimport utils\n",
        "\n",
        "\n",
        "import utils"
      ]
    },
    {
      "cell_type": "code",
      "source": [
        "from google.colab import drive\n",
        "drive.mount('/content/drive', force_remount=True)\n",
        "# !unzip /content/drive/MyDrive/CS4248_project-main.zip\n"
      ],
      "metadata": {
        "id": "654HF_ZJQ4rr",
        "colab": {
          "base_uri": "https://localhost:8080/"
        },
        "outputId": "8a0c6057-1d47-4090-e4e2-3409f3a14157"
      },
      "execution_count": 4,
      "outputs": [
        {
          "output_type": "stream",
          "name": "stdout",
          "text": [
            "Mounted at /content/drive\n"
          ]
        }
      ]
    },
    {
      "cell_type": "markdown",
      "metadata": {
        "id": "ySAsEBXKyoPv"
      },
      "source": [
        "### Load Data\n",
        "**obj_len** controls the overall length of texts. <br>Assume A is a text. If len(A) < obj_len, it will be padded. Else, it will be truncated.<br>\n",
        "Change the parameters of the dataloader as you wish.\n"
      ]
    },
    {
      "cell_type": "code",
      "execution_count": 5,
      "metadata": {
        "id": "xyaFuWDKyoPx"
      },
      "outputs": [],
      "source": [
        "data = utils.load_data(obj_len=1000,batch_size=64)\n",
        "\n",
        "train_iter = data['train_iter']\n",
        "val_iter = data['val_iter']\n",
        "test_iter = data['test_iter']\n",
        "embed_matrix_word2vec = data['word2vec']\n",
        "embed_matrix_glove = data['glove']"
      ]
    },
    {
      "cell_type": "code",
      "execution_count": 6,
      "metadata": {
        "id": "S4_lOhDUyoPy"
      },
      "outputs": [],
      "source": [
        "class GRUModel(nn.Module):\n",
        "    def __init__(self, vocab_size, embed_dim, hidden_dim, output_dim,\n",
        "                 bi_dir:bool, n_layers,\n",
        "                 pretrained_embed):\n",
        "        \"\"\"bi_dir: Bi-directinoal if True\"\"\"\n",
        "        \"\"\"pretrained_embed is the embedding matrix\"\"\"\n",
        "        super().__init__()\n",
        "        self.embedding = nn.Embedding(vocab_size,embed_dim)\n",
        "        self.embedding.weight.data.copy_(pretrained_embed)\n",
        "        self.embedding.weight.requires_grad = False   # freeze word embeddings\n",
        "\n",
        "        self.encoder = nn.GRU(embed_dim, hidden_dim, num_layers=n_layers, bidirectional=bi_dir)\n",
        "        self.num_dir = 1 + bi_dir\n",
        "        self.decoder = nn.Linear(hidden_dim * self.num_dir, output_dim)   # times 2 if the model is bi-directional\n",
        "\n",
        "    def forward(self, inputs):\n",
        "        # the expected input shape of RNN models are: (seq_len, batch_size, feature_dim)\n",
        "        # thus we need to transpose the inputs\n",
        "        embedding = self.embedding(inputs.T)  # shape: (seq_len, batch_size, embed_dim)\n",
        "\n",
        "        self.encoder.flatten_parameters()\n",
        "        _, hidden = self.encoder(embedding)  # shape: (n_layers, batch_size, hidden_dim)\n",
        "        if self.encoder.bidirectional:\n",
        "            outputs = torch.cat((hidden[-2],hidden[-1]),dim=1)\n",
        "        else:\n",
        "            outputs = hidden[-1]\n",
        "        return self.decoder(outputs)"
      ]
    },
    {
      "cell_type": "code",
      "source": [
        "class RNNModel(nn.Module):\n",
        "    def __init__(self, vocab_size, embed_dim, hidden_dim, output_dim, bi_dir: bool, n_layers, pretrained_embed):\n",
        "        super().__init__()\n",
        "        self.embedding = nn.Embedding(vocab_size, embed_dim)\n",
        "        self.embedding.weight.data.copy_(pretrained_embed)\n",
        "        self.embedding.weight.requires_grad = False  # freeze word embeddings\n",
        "\n",
        "        self.encoder = nn.RNN(embed_dim, hidden_dim, num_layers=n_layers, bidirectional=bi_dir)\n",
        "        self.num_dir = 2 if bi_dir else 1\n",
        "        self.decoder = nn.Linear(hidden_dim * self.num_dir, output_dim)\n",
        "\n",
        "    def forward(self, inputs):\n",
        "        embedding = self.embedding(inputs.T)  # transpose inputs to shape: (seq_len, batch_size, embed_dim)\n",
        "\n",
        "        self.encoder.flatten_parameters()\n",
        "        _, hidden = self.encoder(embedding)  # output shape: (n_layers * num_dir, batch_size, hidden_dim)\n",
        "        if self.encoder.bidirectional:\n",
        "            outputs = torch.cat((hidden[-2], hidden[-1]), dim=1)\n",
        "        else:\n",
        "            outputs = hidden[-1]\n",
        "\n",
        "        return self.decoder(outputs)\n"
      ],
      "metadata": {
        "id": "ePXoaerjiAix"
      },
      "execution_count": 7,
      "outputs": []
    },
    {
      "cell_type": "code",
      "source": [
        "# class LSTMModel(nn.Module):\n",
        "#     def __init__(self, vocab_size, embed_dim, hidden_dim, output_dim, bi_dir: bool, n_layers, pretrained_embed):\n",
        "#         super().__init__()\n",
        "#         self.embedding = nn.Embedding(vocab_size, embed_dim)\n",
        "#         self.embedding.weight.data.copy_(pretrained_embed)\n",
        "#         self.embedding.weight.requires_grad = False  # freeze word embeddings\n",
        "\n",
        "#         self.encoder = nn.LSTM(embed_dim, hidden_dim, num_layers=n_layers, bidirectional=bi_dir, dropout=0.5 if n_layers > 1 else 0)\n",
        "#         self.num_dir = 2 if bi_dir else 1\n",
        "#         self.decoder = nn.Linear(hidden_dim * self.num_dir, output_dim)\n",
        "\n",
        "#     def forward(self, inputs):\n",
        "#         embedding = self.embedding(inputs.T)  # transpose inputs to shape: (seq_len, batch_size, embed_dim)\n",
        "\n",
        "#         self.encoder.flatten_parameters()\n",
        "#         _, (hidden, _) = self.encoder(embedding)  # LSTM returns hidden and cell states\n",
        "#         if self.encoder.bidirectional:\n",
        "#             outputs = torch.cat((hidden[-2], hidden[-1]), dim=1)\n",
        "#         else:\n",
        "#             outputs = hidden[-1]\n",
        "\n",
        "#         return self.decoder(outputs)\n",
        "class LSTMModel(nn.Module):\n",
        "    def __init__(self, vocab_size, embed_dim, hidden_dim, output_dim, bi_dir: bool, n_layers, pretrained_embed, dropout_rate=0.5):\n",
        "        super().__init__()\n",
        "        self.embedding = nn.Embedding(vocab_size, embed_dim)\n",
        "        self.embedding.weight.data.copy_(pretrained_embed)\n",
        "        self.embedding.weight.requires_grad = False  # freeze word embeddings\n",
        "\n",
        "        self.encoder = nn.LSTM(embed_dim, hidden_dim, num_layers=n_layers, bidirectional=bi_dir, dropout=dropout_rate if n_layers > 1 else 0)\n",
        "        self.num_dir = 2 if bi_dir else 1\n",
        "        self.dropout = nn.Dropout(dropout_rate)\n",
        "        self.decoder = nn.Linear(hidden_dim * self.num_dir, output_dim)\n",
        "\n",
        "    def forward(self, inputs):\n",
        "        embedding = self.embedding(inputs.T)  # transpose inputs to shape: (seq_len, batch_size, embed_dim)\n",
        "        embedding = self.dropout(embedding)\n",
        "\n",
        "        self.encoder.flatten_parameters()\n",
        "        output, (hidden, _) = self.encoder(embedding)  # LSTM returns output, hidden and cell states\n",
        "        if self.encoder.bidirectional:\n",
        "            hidden = self.dropout(torch.cat((hidden[-2], hidden[-1]), dim=1))\n",
        "        else:\n",
        "            hidden = self.dropout(hidden[-1])\n",
        "\n",
        "        return self.decoder(hidden)\n"
      ],
      "metadata": {
        "id": "FMNoKQINjuhz"
      },
      "execution_count": 8,
      "outputs": []
    },
    {
      "cell_type": "code",
      "source": [
        "# import torch\n",
        "# import torch.nn as nn\n",
        "# import torch.nn.functional as F\n",
        "\n",
        "# class MLPModel(nn.Module):\n",
        "#     def __init__(self, vocab_size, embed_dim, hidden_dim, output_dim, n_layers, pretrained_embed, dropout_rate=0.5):\n",
        "#         super().__init__()\n",
        "#         self.embedding = nn.Embedding(vocab_size, embed_dim)\n",
        "#         self.embedding.weight.data.copy_(pretrained_embed)\n",
        "#         self.embedding.weight.requires_grad = False  # freeze word embeddings\n",
        "\n",
        "#         self.dropout = nn.Dropout(dropout_rate)\n",
        "\n",
        "#         # Assuming the first layer should match the actual flattened input size\n",
        "#         self.input_dim = embed_dim *   # Adjust this based on actual calculation (seq_len * embed_dim)\n",
        "#         self.hidden_dim = hidden_dim\n",
        "\n",
        "#         # Initialize the first layer with the correct input dimension\n",
        "#         self.layers = nn.ModuleList([nn.Linear(self.input_dim, self.hidden_dim)])\n",
        "#         self.layers.extend([\n",
        "#             nn.Linear(self.hidden_dim, self.hidden_dim) for _ in range(n_layers - 2)\n",
        "#         ])\n",
        "#         self.layers.append(nn.Linear(self.hidden_dim, output_dim))\n",
        "\n",
        "#     def forward(self, inputs):\n",
        "#         # Embedding input shape: (seq_len, batch_size)\n",
        "#         embedded = self.embedding(inputs).transpose(0, 1)\n",
        "#         batch_size = embedded.size(0)\n",
        "\n",
        "#         # Flatten the embeddings\n",
        "#         mlp_input = embedded.reshape(batch_size, -1)\n",
        "#         mlp_input = self.dropout(mlp_input)\n",
        "\n",
        "#         # Pass through each MLP layer\n",
        "#         output = mlp_input\n",
        "#         for layer in self.layers:\n",
        "#             output = F.relu(layer(output))\n",
        "#         output = self.layers[-1](output)  # No ReLU for the output layer\n",
        "\n",
        "#         return output\n"
      ],
      "metadata": {
        "colab": {
          "base_uri": "https://localhost:8080/",
          "height": 105
        },
        "id": "jSX0Fu7por1o",
        "outputId": "f3ebf0a5-214b-4d21-bcff-8f520e522596"
      },
      "execution_count": 9,
      "outputs": [
        {
          "output_type": "error",
          "ename": "SyntaxError",
          "evalue": "invalid syntax (<ipython-input-9-a028e462a45c>, line 15)",
          "traceback": [
            "\u001b[0;36m  File \u001b[0;32m\"<ipython-input-9-a028e462a45c>\"\u001b[0;36m, line \u001b[0;32m15\u001b[0m\n\u001b[0;31m    self.input_dim = embed_dim *   # Adjust this based on actual calculation (seq_len * embed_dim)\u001b[0m\n\u001b[0m                                   ^\u001b[0m\n\u001b[0;31mSyntaxError\u001b[0m\u001b[0;31m:\u001b[0m invalid syntax\n"
          ]
        }
      ]
    },
    {
      "cell_type": "code",
      "execution_count": 10,
      "metadata": {
        "id": "YiTtdzsWyoPy"
      },
      "outputs": [],
      "source": [
        "def init_weight(layer):\n",
        "    \"\"\"initialize the weight of a layer\"\"\"\n",
        "    \"\"\"Use Xavier initialization\"\"\"\n",
        "    if type(layer) == nn.Linear:\n",
        "        nn.init.xavier_uniform_(layer.weight)\n",
        "    if type(layer) == nn.GRU:\n",
        "        for param_name in layer._flat_weights_names:\n",
        "            if \"weight\" in param_name:\n",
        "                nn.init.xavier_uniform_(layer._parameters[param_name])"
      ]
    },
    {
      "cell_type": "code",
      "execution_count": 13,
      "metadata": {
        "id": "ktRpvzMkyoPy"
      },
      "outputs": [],
      "source": [
        "fixed_params = {\n",
        "    \"vocab_size\":embed_matrix_glove.shape[0],\n",
        "    \"embed_dim\":embed_matrix_glove.shape[1],\n",
        "    \"output_dim\":4\n",
        "}\n",
        "\n",
        "gru = partial(GRUModel, **fixed_params)\n",
        "rnn = partial(RNNModel, **fixed_params)\n",
        "lstm = partial(LSTMModel, **fixed_params)\n",
        "# mlp = partial(MLPModel, **fixed_params)"
      ]
    },
    {
      "cell_type": "code",
      "source": [
        "print(embed_matrix_glove.shape[1])"
      ],
      "metadata": {
        "colab": {
          "base_uri": "https://localhost:8080/"
        },
        "id": "nMRk1UsBx1u-",
        "outputId": "20dca715-ae98-4329-b62d-a8cca2b07be8"
      },
      "execution_count": 14,
      "outputs": [
        {
          "output_type": "stream",
          "name": "stdout",
          "text": [
            "300\n"
          ]
        }
      ]
    },
    {
      "cell_type": "markdown",
      "metadata": {
        "id": "75SrG2zNyoPz"
      },
      "source": [
        "# Glove"
      ]
    },
    {
      "cell_type": "code",
      "execution_count": 17,
      "metadata": {
        "id": "z3VpuftmyoPz",
        "outputId": "4b07a32c-5adf-42e1-f488-4d092f52dd0f",
        "colab": {
          "base_uri": "https://localhost:8080/"
        }
      },
      "outputs": [
        {
          "output_type": "execute_result",
          "data": {
            "text/plain": [
              "GRUModel(\n",
              "  (embedding): Embedding(25002, 300)\n",
              "  (encoder): GRU(300, 64, bidirectional=True)\n",
              "  (decoder): Linear(in_features=128, out_features=4, bias=True)\n",
              ")"
            ]
          },
          "metadata": {},
          "execution_count": 17
        }
      ],
      "source": [
        "glove_params = {\n",
        "    \"hidden_dim\":64,\n",
        "    \"bi_dir\":True,\n",
        "    \"n_layers\":1,\n",
        "    \"pretrained_embed\":embed_matrix_glove\n",
        "}\n",
        "mlp_prams = {\n",
        "    \"hidden_dim\":64,\n",
        "    \"n_layers\":1,\n",
        "    \"pretrained_embed\":embed_matrix_glove\n",
        "}\n",
        "\n",
        "rnn_glove = rnn(**glove_params)\n",
        "rnn_glove.apply(init_weight)    # Xavier intialization\n",
        "lstm_glove = lstm(**glove_params)\n",
        "lstm_glove.apply(init_weight)\n",
        "gru_glove = gru(**glove_params)\n",
        "gru_glove.apply(init_weight)\n",
        "# mlp_glove = mlp(**mlp_prams)\n",
        "# mlp_glove.apply(init_weight)"
      ]
    },
    {
      "cell_type": "markdown",
      "metadata": {
        "id": "V0vniV2iyoPz"
      },
      "source": [
        "set **verbose** == True if you wanna monitor the training process."
      ]
    },
    {
      "cell_type": "code",
      "execution_count": 16,
      "metadata": {
        "id": "W6NTYvO2yoP0",
        "outputId": "743d96f3-a7e0-43b2-cb40-4046abaf9145",
        "colab": {
          "base_uri": "https://localhost:8080/",
          "height": 1000
        }
      },
      "outputs": [
        {
          "output_type": "stream",
          "name": "stdout",
          "text": [
            "CUDA is available. Training on GPU.\n"
          ]
        },
        {
          "output_type": "stream",
          "name": "stderr",
          "text": [
            "  5%|▌         | 1/20 [00:19<06:14, 19.73s/it]"
          ]
        },
        {
          "output_type": "stream",
          "name": "stdout",
          "text": [
            "epoch 0   train_f1: 0.852, val_f1: 0.844\n",
            "\n"
          ]
        },
        {
          "output_type": "stream",
          "name": "stderr",
          "text": [
            "\r 10%|█         | 2/20 [00:39<05:53, 19.61s/it]"
          ]
        },
        {
          "output_type": "stream",
          "name": "stdout",
          "text": [
            "epoch 1   train_f1: 0.883, val_f1: 0.879\n",
            "\n"
          ]
        },
        {
          "output_type": "stream",
          "name": "stderr",
          "text": [
            "\r 15%|█▌        | 3/20 [00:59<05:40, 20.04s/it]"
          ]
        },
        {
          "output_type": "stream",
          "name": "stdout",
          "text": [
            "epoch 2   train_f1: 0.928, val_f1: 0.922\n",
            "\n"
          ]
        },
        {
          "output_type": "stream",
          "name": "stderr",
          "text": [
            "\r 20%|██        | 4/20 [01:21<05:30, 20.68s/it]"
          ]
        },
        {
          "output_type": "stream",
          "name": "stdout",
          "text": [
            "epoch 3   train_f1: 0.954, val_f1: 0.949\n",
            "\n"
          ]
        },
        {
          "output_type": "stream",
          "name": "stderr",
          "text": [
            "\r 25%|██▌       | 5/20 [01:43<05:16, 21.13s/it]"
          ]
        },
        {
          "output_type": "stream",
          "name": "stdout",
          "text": [
            "epoch 4   train_f1: 0.959, val_f1: 0.954\n",
            "\n"
          ]
        },
        {
          "output_type": "stream",
          "name": "stderr",
          "text": [
            "\r 30%|███       | 6/20 [02:04<04:55, 21.10s/it]"
          ]
        },
        {
          "output_type": "stream",
          "name": "stdout",
          "text": [
            "epoch 5   train_f1: 0.970, val_f1: 0.964\n",
            "\n"
          ]
        },
        {
          "output_type": "stream",
          "name": "stderr",
          "text": [
            "\r 35%|███▌      | 7/20 [02:25<04:33, 21.06s/it]"
          ]
        },
        {
          "output_type": "stream",
          "name": "stdout",
          "text": [
            "epoch 6   train_f1: 0.972, val_f1: 0.964\n",
            "\n"
          ]
        },
        {
          "output_type": "stream",
          "name": "stderr",
          "text": [
            "\r 40%|████      | 8/20 [02:46<04:13, 21.15s/it]"
          ]
        },
        {
          "output_type": "stream",
          "name": "stdout",
          "text": [
            "epoch 7   train_f1: 0.984, val_f1: 0.974\n",
            "\n"
          ]
        },
        {
          "output_type": "stream",
          "name": "stderr",
          "text": [
            "\r 45%|████▌     | 9/20 [03:08<03:55, 21.40s/it]"
          ]
        },
        {
          "output_type": "stream",
          "name": "stdout",
          "text": [
            "epoch 8   train_f1: 0.974, val_f1: 0.967\n",
            "\n"
          ]
        },
        {
          "output_type": "stream",
          "name": "stderr",
          "text": [
            "\r 50%|█████     | 10/20 [03:30<03:35, 21.52s/it]"
          ]
        },
        {
          "output_type": "stream",
          "name": "stdout",
          "text": [
            "epoch 9   train_f1: 0.974, val_f1: 0.966\n",
            "\n"
          ]
        },
        {
          "output_type": "stream",
          "name": "stderr",
          "text": [
            "\r 55%|█████▌    | 11/20 [03:52<03:14, 21.60s/it]"
          ]
        },
        {
          "output_type": "stream",
          "name": "stdout",
          "text": [
            "epoch 10   train_f1: 0.987, val_f1: 0.977\n",
            "\n"
          ]
        },
        {
          "output_type": "stream",
          "name": "stderr",
          "text": [
            "\r 60%|██████    | 12/20 [04:14<02:53, 21.65s/it]"
          ]
        },
        {
          "output_type": "stream",
          "name": "stdout",
          "text": [
            "epoch 11   train_f1: 0.988, val_f1: 0.976\n",
            "\n"
          ]
        },
        {
          "output_type": "stream",
          "name": "stderr",
          "text": [
            "\r 65%|██████▌   | 13/20 [04:35<02:31, 21.69s/it]"
          ]
        },
        {
          "output_type": "stream",
          "name": "stdout",
          "text": [
            "epoch 12   train_f1: 0.988, val_f1: 0.977\n",
            "\n"
          ]
        },
        {
          "output_type": "stream",
          "name": "stderr",
          "text": [
            "\r 70%|███████   | 14/20 [04:57<02:10, 21.71s/it]"
          ]
        },
        {
          "output_type": "stream",
          "name": "stdout",
          "text": [
            "epoch 13   train_f1: 0.987, val_f1: 0.974\n",
            "\n"
          ]
        },
        {
          "output_type": "stream",
          "name": "stderr",
          "text": [
            "\r 75%|███████▌  | 15/20 [05:19<01:48, 21.76s/it]"
          ]
        },
        {
          "output_type": "stream",
          "name": "stdout",
          "text": [
            "epoch 14   train_f1: 0.993, val_f1: 0.980\n",
            "\n"
          ]
        },
        {
          "output_type": "stream",
          "name": "stderr",
          "text": [
            "\r 80%|████████  | 16/20 [05:41<01:26, 21.72s/it]"
          ]
        },
        {
          "output_type": "stream",
          "name": "stdout",
          "text": [
            "epoch 15   train_f1: 0.994, val_f1: 0.980\n",
            "\n"
          ]
        },
        {
          "output_type": "stream",
          "name": "stderr",
          "text": [
            "\r 85%|████████▌ | 17/20 [06:02<01:04, 21.54s/it]"
          ]
        },
        {
          "output_type": "stream",
          "name": "stdout",
          "text": [
            "epoch 16   train_f1: 0.995, val_f1: 0.982\n",
            "\n"
          ]
        },
        {
          "output_type": "stream",
          "name": "stderr",
          "text": [
            "\r 90%|█████████ | 18/20 [06:23<00:42, 21.41s/it]"
          ]
        },
        {
          "output_type": "stream",
          "name": "stdout",
          "text": [
            "epoch 17   train_f1: 0.994, val_f1: 0.979\n",
            "\n"
          ]
        },
        {
          "output_type": "stream",
          "name": "stderr",
          "text": [
            "\r 95%|█████████▌| 19/20 [06:44<00:21, 21.27s/it]"
          ]
        },
        {
          "output_type": "stream",
          "name": "stdout",
          "text": [
            "epoch 18   train_f1: 0.983, val_f1: 0.970\n",
            "\n"
          ]
        },
        {
          "output_type": "stream",
          "name": "stderr",
          "text": [
            "100%|██████████| 20/20 [07:05<00:00, 21.26s/it]"
          ]
        },
        {
          "output_type": "stream",
          "name": "stdout",
          "text": [
            "epoch 19   train_f1: 0.994, val_f1: 0.979\n",
            "\n"
          ]
        },
        {
          "output_type": "stream",
          "name": "stderr",
          "text": [
            "\n"
          ]
        },
        {
          "output_type": "display_data",
          "data": {
            "text/plain": [
              "<Figure size 640x480 with 1 Axes>"
            ],
            "image/png": "[encoded data removed]"
          },
          "metadata": {}
        }
      ],
      "source": [
        "model = lstm_glove\n",
        "utils.train(model, train_iter, val_iter,\n",
        "            lr=1e-3, num_epochs=20, verbose=True)\n"
      ]
    },
    {
      "cell_type": "code",
      "execution_count": 18,
      "metadata": {
        "id": "jGG1ddHQyoP0",
        "outputId": "123ca3de-b4e1-4bc0-842d-e085c3f4dae7",
        "colab": {
          "base_uri": "https://localhost:8080/"
        }
      },
      "outputs": [
        {
          "output_type": "execute_result",
          "data": {
            "text/plain": [
              "0.5675047255348007"
            ]
          },
          "metadata": {},
          "execution_count": 18
        }
      ],
      "source": [
        "utils.calculate_metric(model, test_iter, device=\"cuda\")"
      ]
    },
    {
      "cell_type": "markdown",
      "metadata": {
        "id": "fC23hIhgyoP0"
      },
      "source": [
        "It's strange that the model performs very well on the validation set but performs poorly on the test set. I made sure that there's no data leakage except the vocabulary is derived on the union of training and validation set. The distribution of test data might be different from the training corpus."
      ]
    },
    {
      "cell_type": "code",
      "execution_count": 19,
      "metadata": {
        "id": "IJSWBNRJyoP0",
        "outputId": "8e5077ea-d04b-4719-c981-d668705ceb87",
        "colab": {
          "base_uri": "https://localhost:8080/"
        }
      },
      "outputs": [
        {
          "output_type": "execute_result",
          "data": {
            "text/plain": [
              "array([[0.824     , 0.136     , 0.03333333, 0.00666667],\n",
              "       [0.02159244, 0.47638327, 0.4925776 , 0.00944669],\n",
              "       [0.11333333, 0.004     , 0.15333333, 0.72933333],\n",
              "       [0.06711409, 0.00268456, 0.0147651 , 0.91543624]])"
            ]
          },
          "metadata": {},
          "execution_count": 19
        }
      ],
      "source": [
        "# confusion matrix\n",
        "utils.get_cm(model, test_iter, device=\"cuda\")"
      ]
    },
    {
      "cell_type": "markdown",
      "metadata": {
        "id": "YO6k-HH2yoP1"
      },
      "source": [
        "The model's terrible at predicting class 2 and 3"
      ]
    },
    {
      "cell_type": "markdown",
      "metadata": {
        "id": "Uv1kmzHhyoP1"
      },
      "source": [
        "# Word2vec"
      ]
    },
    {
      "cell_type": "code",
      "execution_count": 20,
      "metadata": {
        "id": "-t9Q-96cyoP1",
        "outputId": "82e059c7-152c-4672-b468-7d18b64a84ca",
        "colab": {
          "base_uri": "https://localhost:8080/"
        }
      },
      "outputs": [
        {
          "output_type": "execute_result",
          "data": {
            "text/plain": [
              "LSTMModel(\n",
              "  (embedding): Embedding(25002, 300)\n",
              "  (encoder): LSTM(300, 64, bidirectional=True)\n",
              "  (dropout): Dropout(p=0.5, inplace=False)\n",
              "  (decoder): Linear(in_features=128, out_features=4, bias=True)\n",
              ")"
            ]
          },
          "metadata": {},
          "execution_count": 20
        }
      ],
      "source": [
        "word2vec_params = {\n",
        "    \"hidden_dim\":64,\n",
        "    \"bi_dir\":True,\n",
        "    \"n_layers\":1,\n",
        "    \"pretrained_embed\":embed_matrix_word2vec\n",
        "}\n",
        "\n",
        "gru_word2vec = rnn(**word2vec_params)\n",
        "gru_word2vec.apply(init_weight)     # Xavier intialization\n",
        "lstm_word2vec = lstm(**word2vec_params)\n",
        "lstm_word2vec.apply(init_weight)\n",
        "# mlp_word2vec = mlp(**word2vec_params)\n",
        "# mlp_word2vec.apply(init_weight)"
      ]
    },
    {
      "cell_type": "code",
      "execution_count": 21,
      "metadata": {
        "id": "_FOw2qP4yoP1",
        "outputId": "9508f1d8-0d9b-4e4d-e8c0-3ab3526a203c",
        "colab": {
          "base_uri": "https://localhost:8080/",
          "height": 1000
        }
      },
      "outputs": [
        {
          "output_type": "stream",
          "name": "stdout",
          "text": [
            "CUDA is available. Training on GPU.\n"
          ]
        },
        {
          "output_type": "stream",
          "name": "stderr",
          "text": [
            "  4%|▍         | 1/25 [00:20<08:17, 20.72s/it]"
          ]
        },
        {
          "output_type": "stream",
          "name": "stdout",
          "text": [
            "epoch 0   train_f1: 0.843, val_f1: 0.842\n",
            "\n"
          ]
        },
        {
          "output_type": "stream",
          "name": "stderr",
          "text": [
            "\r  8%|▊         | 2/25 [00:41<08:00, 20.88s/it]"
          ]
        },
        {
          "output_type": "stream",
          "name": "stdout",
          "text": [
            "epoch 1   train_f1: 0.843, val_f1: 0.833\n",
            "\n"
          ]
        },
        {
          "output_type": "stream",
          "name": "stderr",
          "text": [
            "\r 12%|█▏        | 3/25 [01:02<07:38, 20.83s/it]"
          ]
        },
        {
          "output_type": "stream",
          "name": "stdout",
          "text": [
            "epoch 2   train_f1: 0.864, val_f1: 0.865\n",
            "\n"
          ]
        },
        {
          "output_type": "stream",
          "name": "stderr",
          "text": [
            "\r 16%|█▌        | 4/25 [01:23<07:16, 20.78s/it]"
          ]
        },
        {
          "output_type": "stream",
          "name": "stdout",
          "text": [
            "epoch 3   train_f1: 0.811, val_f1: 0.803\n",
            "\n"
          ]
        },
        {
          "output_type": "stream",
          "name": "stderr",
          "text": [
            "\r 20%|██        | 5/25 [01:43<06:52, 20.64s/it]"
          ]
        },
        {
          "output_type": "stream",
          "name": "stdout",
          "text": [
            "epoch 4   train_f1: 0.791, val_f1: 0.792\n",
            "\n"
          ]
        },
        {
          "output_type": "stream",
          "name": "stderr",
          "text": [
            "\r 24%|██▍       | 6/25 [02:04<06:31, 20.61s/it]"
          ]
        },
        {
          "output_type": "stream",
          "name": "stdout",
          "text": [
            "epoch 5   train_f1: 0.762, val_f1: 0.760\n",
            "\n"
          ]
        },
        {
          "output_type": "stream",
          "name": "stderr",
          "text": [
            "\r 28%|██▊       | 7/25 [02:24<06:10, 20.56s/it]"
          ]
        },
        {
          "output_type": "stream",
          "name": "stdout",
          "text": [
            "epoch 6   train_f1: 0.826, val_f1: 0.825\n",
            "\n"
          ]
        },
        {
          "output_type": "stream",
          "name": "stderr",
          "text": [
            "\r 32%|███▏      | 8/25 [02:45<05:50, 20.63s/it]"
          ]
        },
        {
          "output_type": "stream",
          "name": "stdout",
          "text": [
            "epoch 7   train_f1: 0.913, val_f1: 0.906\n",
            "\n"
          ]
        },
        {
          "output_type": "stream",
          "name": "stderr",
          "text": [
            "\r 36%|███▌      | 9/25 [03:06<05:30, 20.65s/it]"
          ]
        },
        {
          "output_type": "stream",
          "name": "stdout",
          "text": [
            "epoch 8   train_f1: 0.931, val_f1: 0.924\n",
            "\n"
          ]
        },
        {
          "output_type": "stream",
          "name": "stderr",
          "text": [
            "\r 40%|████      | 10/25 [03:26<05:09, 20.66s/it]"
          ]
        },
        {
          "output_type": "stream",
          "name": "stdout",
          "text": [
            "epoch 9   train_f1: 0.887, val_f1: 0.884\n",
            "\n"
          ]
        },
        {
          "output_type": "stream",
          "name": "stderr",
          "text": [
            "\r 44%|████▍     | 11/25 [03:47<04:49, 20.67s/it]"
          ]
        },
        {
          "output_type": "stream",
          "name": "stdout",
          "text": [
            "epoch 10   train_f1: 0.913, val_f1: 0.908\n",
            "\n"
          ]
        },
        {
          "output_type": "stream",
          "name": "stderr",
          "text": [
            "\r 48%|████▊     | 12/25 [04:08<04:30, 20.77s/it]"
          ]
        },
        {
          "output_type": "stream",
          "name": "stdout",
          "text": [
            "epoch 11   train_f1: 0.934, val_f1: 0.928\n",
            "\n"
          ]
        },
        {
          "output_type": "stream",
          "name": "stderr",
          "text": [
            "\r 52%|█████▏    | 13/25 [04:29<04:11, 20.95s/it]"
          ]
        },
        {
          "output_type": "stream",
          "name": "stdout",
          "text": [
            "epoch 12   train_f1: 0.953, val_f1: 0.946\n",
            "\n"
          ]
        },
        {
          "output_type": "stream",
          "name": "stderr",
          "text": [
            "\r 56%|█████▌    | 14/25 [04:51<03:51, 21.05s/it]"
          ]
        },
        {
          "output_type": "stream",
          "name": "stdout",
          "text": [
            "epoch 13   train_f1: 0.956, val_f1: 0.948\n",
            "\n"
          ]
        },
        {
          "output_type": "stream",
          "name": "stderr",
          "text": [
            "\r 60%|██████    | 15/25 [05:12<03:31, 21.16s/it]"
          ]
        },
        {
          "output_type": "stream",
          "name": "stdout",
          "text": [
            "epoch 14   train_f1: 0.964, val_f1: 0.957\n",
            "\n"
          ]
        },
        {
          "output_type": "stream",
          "name": "stderr",
          "text": [
            "\r 64%|██████▍   | 16/25 [05:34<03:11, 21.27s/it]"
          ]
        },
        {
          "output_type": "stream",
          "name": "stdout",
          "text": [
            "epoch 15   train_f1: 0.969, val_f1: 0.960\n",
            "\n"
          ]
        },
        {
          "output_type": "stream",
          "name": "stderr",
          "text": [
            "\r 68%|██████▊   | 17/25 [05:55<02:50, 21.34s/it]"
          ]
        },
        {
          "output_type": "stream",
          "name": "stdout",
          "text": [
            "epoch 16   train_f1: 0.972, val_f1: 0.964\n",
            "\n"
          ]
        },
        {
          "output_type": "stream",
          "name": "stderr",
          "text": [
            "\r 72%|███████▏  | 18/25 [06:16<02:29, 21.36s/it]"
          ]
        },
        {
          "output_type": "stream",
          "name": "stdout",
          "text": [
            "epoch 17   train_f1: 0.966, val_f1: 0.959\n",
            "\n"
          ]
        },
        {
          "output_type": "stream",
          "name": "stderr",
          "text": [
            "\r 76%|███████▌  | 19/25 [06:38<02:07, 21.33s/it]"
          ]
        },
        {
          "output_type": "stream",
          "name": "stdout",
          "text": [
            "epoch 18   train_f1: 0.970, val_f1: 0.962\n",
            "\n"
          ]
        },
        {
          "output_type": "stream",
          "name": "stderr",
          "text": [
            "\r 80%|████████  | 20/25 [06:59<01:46, 21.29s/it]"
          ]
        },
        {
          "output_type": "stream",
          "name": "stdout",
          "text": [
            "epoch 19   train_f1: 0.980, val_f1: 0.970\n",
            "\n"
          ]
        },
        {
          "output_type": "stream",
          "name": "stderr",
          "text": [
            "\r 84%|████████▍ | 21/25 [07:20<01:25, 21.25s/it]"
          ]
        },
        {
          "output_type": "stream",
          "name": "stdout",
          "text": [
            "epoch 20   train_f1: 0.981, val_f1: 0.973\n",
            "\n"
          ]
        },
        {
          "output_type": "stream",
          "name": "stderr",
          "text": [
            "\r 88%|████████▊ | 22/25 [07:41<01:03, 21.24s/it]"
          ]
        },
        {
          "output_type": "stream",
          "name": "stdout",
          "text": [
            "epoch 21   train_f1: 0.982, val_f1: 0.973\n",
            "\n"
          ]
        },
        {
          "output_type": "stream",
          "name": "stderr",
          "text": [
            "\r 92%|█████████▏| 23/25 [08:03<00:42, 21.24s/it]"
          ]
        },
        {
          "output_type": "stream",
          "name": "stdout",
          "text": [
            "epoch 22   train_f1: 0.968, val_f1: 0.961\n",
            "\n"
          ]
        },
        {
          "output_type": "stream",
          "name": "stderr",
          "text": [
            "\r 96%|█████████▌| 24/25 [08:24<00:21, 21.29s/it]"
          ]
        },
        {
          "output_type": "stream",
          "name": "stdout",
          "text": [
            "epoch 23   train_f1: 0.984, val_f1: 0.974\n",
            "\n"
          ]
        },
        {
          "output_type": "stream",
          "name": "stderr",
          "text": [
            "100%|██████████| 25/25 [08:45<00:00, 21.03s/it]"
          ]
        },
        {
          "output_type": "stream",
          "name": "stdout",
          "text": [
            "epoch 24   train_f1: 0.987, val_f1: 0.978\n",
            "\n"
          ]
        },
        {
          "output_type": "stream",
          "name": "stderr",
          "text": [
            "\n"
          ]
        },
        {
          "output_type": "display_data",
          "data": {
            "text/plain": [
              "<Figure size 640x480 with 1 Axes>"
            ],
            "image/png": "[encoded data removed]"
          },
          "metadata": {}
        }
      ],
      "source": [
        "utils.train(lstm_word2vec, train_iter, val_iter,\n",
        "            lr=1e-3, num_epochs=25, verbose=True)"
      ]
    },
    {
      "cell_type": "code",
      "execution_count": 22,
      "metadata": {
        "id": "pxCT6I6DyoP2",
        "outputId": "b1a2774e-1284-4032-f398-e8c2fc7f1909",
        "colab": {
          "base_uri": "https://localhost:8080/"
        }
      },
      "outputs": [
        {
          "output_type": "execute_result",
          "data": {
            "text/plain": [
              "0.5569381774421984"
            ]
          },
          "metadata": {},
          "execution_count": 22
        }
      ],
      "source": [
        "utils.calculate_metric(lstm_word2vec, test_iter, device=\"cuda\")"
      ]
    }
  ],
  "metadata": {
    "kernelspec": {
      "display_name": "Python 3",
      "name": "python3"
    },
    "language_info": {
      "codemirror_mode": {
        "name": "ipython",
        "version": 3
      },
      "file_extension": ".py",
      "mimetype": "text/x-python",
      "name": "python",
      "nbconvert_exporter": "python",
      "pygments_lexer": "ipython3",
      "version": "3.10.13"
    },
    "colab": {
      "provenance": [],
      "machine_shape": "hm",
      "gpuType": "T4"
    },
    "accelerator": "GPU"
  },
  "nbformat": 4,
  "nbformat_minor": 0
}