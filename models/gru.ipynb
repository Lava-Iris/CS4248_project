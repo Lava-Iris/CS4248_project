{
 "cells": [
  {
   "cell_type": "code",
   "execution_count": 98,
   "metadata": {},
   "outputs": [
    {
     "name": "stdout",
     "output_type": "stream",
     "text": [
      "The autoreload extension is already loaded. To reload it, use:\n",
      "  %reload_ext autoreload\n"
     ]
    }
   ],
   "source": [
    "import numpy as np\n",
    "from functools import partial\n",
    "\n",
    "import torch\n",
    "from torch import nn\n",
    "from torch.nn import functional as F\n",
    "\n",
    "import sys\n",
    "sys.path.append('../codes')\n",
    "\n",
    "%load_ext autoreload\n",
    "%autoreload 2\n",
    "%aimport utils\n",
    "\n",
    "import utils"
   ]
  },
  {
   "cell_type": "markdown",
   "metadata": {},
   "source": [
    "### Load Data\n",
    "**obj_len** controls the overall length of texts. <br>Assume A is a text. If len(A) < obj_len, it will be padded. Else, it will be truncated.<br>\n",
    "Change the parameters of the dataloader as you wish. \n"
   ]
  },
  {
   "cell_type": "code",
   "execution_count": 100,
   "metadata": {},
   "outputs": [],
   "source": [
    "data = utils.load_data(obj_len=1000,batch_size=64)\n",
    "\n",
    "train_iter = data['train_iter']\n",
    "val_iter = data['val_iter']\n",
    "test_iter = data['test_iter']\n",
    "embed_matrix_word2vec = data['word2vec']\n",
    "embed_matrix_glove = data['glove']"
   ]
  },
  {
   "cell_type": "code",
   "execution_count": 101,
   "metadata": {},
   "outputs": [],
   "source": [
    "class GRUModel(nn.Module):\n",
    "    def __init__(self, vocab_size, embed_dim, hidden_dim, output_dim, \n",
    "                 bi_dir:bool, n_layers,\n",
    "                 pretrained_embed):\n",
    "        \"\"\"bi_dir: Bi-directinoal if True\"\"\"\n",
    "        \"\"\"pretrained_embed is the embedding matrix\"\"\"\n",
    "        super().__init__()\n",
    "        self.embedding = nn.Embedding(vocab_size,embed_dim)\n",
    "        self.embedding.weight.data.copy_(pretrained_embed)\n",
    "        self.embedding.weight.requires_grad = False   # freeze word embeddings\n",
    "        \n",
    "        self.encoder = nn.GRU(embed_dim, hidden_dim, num_layers=n_layers, bidirectional=bi_dir)\n",
    "        self.num_dir = 1 + bi_dir\n",
    "        self.decoder = nn.Linear(hidden_dim * self.num_dir, output_dim)   # times 2 if the model is bi-directional\n",
    "    \n",
    "    def forward(self, inputs):\n",
    "        # the expected input shape of RNN models are: (seq_len, batch_size, feature_dim)\n",
    "        # thus we need to transpose the inputs\n",
    "        embedding = self.embedding(inputs.T)  # shape: (seq_len, batch_size, embed_dim)\n",
    "\n",
    "        self.encoder.flatten_parameters()\n",
    "        _, hidden = self.encoder(embedding)  # shape: (n_layers, batch_size, hidden_dim)\n",
    "        if self.encoder.bidirectional:\n",
    "            outputs = torch.cat((hidden[-2],hidden[-1]),dim=1)\n",
    "        else:\n",
    "            outputs = hidden[-1]\n",
    "        return self.decoder(outputs)"
   ]
  },
  {
   "cell_type": "code",
   "execution_count": 102,
   "metadata": {},
   "outputs": [],
   "source": [
    "def init_weight(layer):\n",
    "    \"\"\"initialize the weight of a layer\"\"\"\n",
    "    \"\"\"Use Xavier initialization\"\"\"\n",
    "    if type(layer) == nn.Linear:\n",
    "        nn.init.xavier_uniform_(layer.weight)\n",
    "    if type(layer) == nn.GRU:\n",
    "        for param_name in layer._flat_weights_names:\n",
    "            if \"weight\" in param_name:\n",
    "                nn.init.xavier_uniform_(layer._parameters[param_name])"
   ]
  },
  {
   "cell_type": "code",
   "execution_count": 103,
   "metadata": {},
   "outputs": [],
   "source": [
    "fixed_params = {\n",
    "    \"vocab_size\":embed_matrix_glove.shape[0],\n",
    "    \"embed_dim\":embed_matrix_glove.shape[1],\n",
    "    \"output_dim\":4\n",
    "}\n",
    "\n",
    "gru = partial(GRUModel, **fixed_params)"
   ]
  },
  {
   "cell_type": "markdown",
   "metadata": {},
   "source": [
    "# Glove"
   ]
  },
  {
   "cell_type": "code",
   "execution_count": 105,
   "metadata": {},
   "outputs": [
    {
     "data": {
      "text/plain": [
       "GRUModel(\n",
       "  (embedding): Embedding(25002, 300)\n",
       "  (encoder): GRU(300, 64)\n",
       "  (decoder): Linear(in_features=64, out_features=4, bias=True)\n",
       ")"
      ]
     },
     "execution_count": 105,
     "metadata": {},
     "output_type": "execute_result"
    }
   ],
   "source": [
    "glove_params = {\n",
    "    \"hidden_dim\":64,\n",
    "    \"bi_dir\":False,\n",
    "    \"n_layers\":1,\n",
    "    \"pretrained_embed\":embed_matrix_glove\n",
    "}\n",
    "\n",
    "gru_glove = gru(**glove_params)\n",
    "gru_glove.apply(init_weight)    # Xavier intialization"
   ]
  },
  {
   "cell_type": "markdown",
   "metadata": {},
   "source": [
    "set **verbose** == True if you wanna monitor the training process."
   ]
  },
  {
   "cell_type": "code",
   "execution_count": 106,
   "metadata": {},
   "outputs": [
    {
     "name": "stdout",
     "output_type": "stream",
     "text": [
      "CUDA is available. Training on GPU.\n"
     ]
    },
    {
     "name": "stderr",
     "output_type": "stream",
     "text": [
      "  5%|▌         | 1/20 [00:06<02:09,  6.83s/it]"
     ]
    },
    {
     "name": "stdout",
     "output_type": "stream",
     "text": [
      "epoch 0   train_f1: 0.406, val_f1: 0.405\n",
      "\n"
     ]
    },
    {
     "name": "stderr",
     "output_type": "stream",
     "text": [
      " 10%|█         | 2/20 [00:13<01:59,  6.64s/it]"
     ]
    },
    {
     "name": "stdout",
     "output_type": "stream",
     "text": [
      "epoch 1   train_f1: 0.949, val_f1: 0.942\n",
      "\n"
     ]
    },
    {
     "name": "stderr",
     "output_type": "stream",
     "text": [
      " 15%|█▌        | 3/20 [00:19<01:51,  6.56s/it]"
     ]
    },
    {
     "name": "stdout",
     "output_type": "stream",
     "text": [
      "epoch 2   train_f1: 0.975, val_f1: 0.964\n",
      "\n"
     ]
    },
    {
     "name": "stderr",
     "output_type": "stream",
     "text": [
      " 20%|██        | 4/20 [00:26<01:45,  6.58s/it]"
     ]
    },
    {
     "name": "stdout",
     "output_type": "stream",
     "text": [
      "epoch 3   train_f1: 0.986, val_f1: 0.972\n",
      "\n"
     ]
    },
    {
     "name": "stderr",
     "output_type": "stream",
     "text": [
      " 25%|██▌       | 5/20 [00:32<01:38,  6.56s/it]"
     ]
    },
    {
     "name": "stdout",
     "output_type": "stream",
     "text": [
      "epoch 4   train_f1: 0.989, val_f1: 0.973\n",
      "\n"
     ]
    },
    {
     "name": "stderr",
     "output_type": "stream",
     "text": [
      " 30%|███       | 6/20 [00:39<01:31,  6.55s/it]"
     ]
    },
    {
     "name": "stdout",
     "output_type": "stream",
     "text": [
      "epoch 5   train_f1: 0.994, val_f1: 0.976\n",
      "\n"
     ]
    },
    {
     "name": "stderr",
     "output_type": "stream",
     "text": [
      " 35%|███▌      | 7/20 [00:46<01:25,  6.61s/it]"
     ]
    },
    {
     "name": "stdout",
     "output_type": "stream",
     "text": [
      "epoch 6   train_f1: 0.994, val_f1: 0.976\n",
      "\n"
     ]
    },
    {
     "name": "stderr",
     "output_type": "stream",
     "text": [
      " 40%|████      | 8/20 [00:52<01:19,  6.61s/it]"
     ]
    },
    {
     "name": "stdout",
     "output_type": "stream",
     "text": [
      "epoch 7   train_f1: 0.997, val_f1: 0.975\n",
      "\n"
     ]
    },
    {
     "name": "stderr",
     "output_type": "stream",
     "text": [
      " 45%|████▌     | 9/20 [00:59<01:13,  6.66s/it]"
     ]
    },
    {
     "name": "stdout",
     "output_type": "stream",
     "text": [
      "epoch 8   train_f1: 0.990, val_f1: 0.969\n",
      "\n"
     ]
    },
    {
     "name": "stderr",
     "output_type": "stream",
     "text": [
      " 50%|█████     | 10/20 [01:06<01:06,  6.65s/it]"
     ]
    },
    {
     "name": "stdout",
     "output_type": "stream",
     "text": [
      "epoch 9   train_f1: 0.997, val_f1: 0.977\n",
      "\n"
     ]
    },
    {
     "name": "stderr",
     "output_type": "stream",
     "text": [
      " 55%|█████▌    | 11/20 [01:12<00:59,  6.66s/it]"
     ]
    },
    {
     "name": "stdout",
     "output_type": "stream",
     "text": [
      "epoch 10   train_f1: 0.999, val_f1: 0.978\n",
      "\n"
     ]
    },
    {
     "name": "stderr",
     "output_type": "stream",
     "text": [
      " 60%|██████    | 12/20 [01:19<00:53,  6.67s/it]"
     ]
    },
    {
     "name": "stdout",
     "output_type": "stream",
     "text": [
      "epoch 11   train_f1: 0.999, val_f1: 0.977\n",
      "\n"
     ]
    },
    {
     "name": "stderr",
     "output_type": "stream",
     "text": [
      " 65%|██████▌   | 13/20 [01:26<00:46,  6.68s/it]"
     ]
    },
    {
     "name": "stdout",
     "output_type": "stream",
     "text": [
      "epoch 12   train_f1: 0.998, val_f1: 0.977\n",
      "\n"
     ]
    },
    {
     "name": "stderr",
     "output_type": "stream",
     "text": [
      " 70%|███████   | 14/20 [01:33<00:40,  6.76s/it]"
     ]
    },
    {
     "name": "stdout",
     "output_type": "stream",
     "text": [
      "epoch 13   train_f1: 0.999, val_f1: 0.977\n",
      "\n"
     ]
    },
    {
     "name": "stderr",
     "output_type": "stream",
     "text": [
      " 75%|███████▌  | 15/20 [01:39<00:33,  6.75s/it]"
     ]
    },
    {
     "name": "stdout",
     "output_type": "stream",
     "text": [
      "epoch 14   train_f1: 1.000, val_f1: 0.977\n",
      "\n"
     ]
    },
    {
     "name": "stderr",
     "output_type": "stream",
     "text": [
      " 80%|████████  | 16/20 [01:46<00:26,  6.72s/it]"
     ]
    },
    {
     "name": "stdout",
     "output_type": "stream",
     "text": [
      "epoch 15   train_f1: 1.000, val_f1: 0.979\n",
      "\n"
     ]
    },
    {
     "name": "stderr",
     "output_type": "stream",
     "text": [
      " 85%|████████▌ | 17/20 [01:53<00:20,  6.71s/it]"
     ]
    },
    {
     "name": "stdout",
     "output_type": "stream",
     "text": [
      "epoch 16   train_f1: 0.999, val_f1: 0.976\n",
      "\n"
     ]
    },
    {
     "name": "stderr",
     "output_type": "stream",
     "text": [
      " 90%|█████████ | 18/20 [02:00<00:13,  6.72s/it]"
     ]
    },
    {
     "name": "stdout",
     "output_type": "stream",
     "text": [
      "epoch 17   train_f1: 0.999, val_f1: 0.976\n",
      "\n"
     ]
    },
    {
     "name": "stderr",
     "output_type": "stream",
     "text": [
      " 95%|█████████▌| 19/20 [02:06<00:06,  6.71s/it]"
     ]
    },
    {
     "name": "stdout",
     "output_type": "stream",
     "text": [
      "epoch 18   train_f1: 1.000, val_f1: 0.978\n",
      "\n"
     ]
    },
    {
     "name": "stderr",
     "output_type": "stream",
     "text": [
      "100%|██████████| 20/20 [02:13<00:00,  6.66s/it]"
     ]
    },
    {
     "name": "stdout",
     "output_type": "stream",
     "text": [
      "epoch 19   train_f1: 0.999, val_f1: 0.978\n",
      "\n"
     ]
    },
    {
     "name": "stderr",
     "output_type": "stream",
     "text": [
      "\n"
     ]
    },
    {
     "data": {
      "image/png": "[encoded data removed]",
      "text/plain": [
       "<Figure size 640x480 with 1 Axes>"
      ]
     },
     "metadata": {},
     "output_type": "display_data"
    }
   ],
   "source": [
    "utils.train(gru_glove, train_iter, val_iter, \n",
    "            lr=1e-3, num_epochs=20, verbose=True)"
   ]
  },
  {
   "cell_type": "code",
   "execution_count": 107,
   "metadata": {},
   "outputs": [
    {
     "data": {
      "text/plain": [
       "0.5745332232817442"
      ]
     },
     "execution_count": 107,
     "metadata": {},
     "output_type": "execute_result"
    }
   ],
   "source": [
    "utils.calculate_metric(gru_glove, test_iter, device=\"cuda\")"
   ]
  },
  {
   "cell_type": "markdown",
   "metadata": {},
   "source": [
    "It's strange that the model performs very well on the validation set but performs poorly on the test set. I made sure that there's no data leakage except the vocabulary is derived on the union of training and validation set. The distribution of test data might be different from the training corpus."
   ]
  },
  {
   "cell_type": "code",
   "execution_count": 109,
   "metadata": {},
   "outputs": [
    {
     "data": {
      "text/plain": [
       "array([[0.75, 0.16, 0.04, 0.05],\n",
       "       [0.03, 0.56, 0.4 , 0.01],\n",
       "       [0.07, 0.  , 0.14, 0.78],\n",
       "       [0.04, 0.  , 0.02, 0.94]])"
      ]
     },
     "execution_count": 109,
     "metadata": {},
     "output_type": "execute_result"
    }
   ],
   "source": [
    "# confusion matrix\n",
    "utils.get_cm(gru_glove, test_iter, device=\"cuda\")"
   ]
  },
  {
   "cell_type": "markdown",
   "metadata": {},
   "source": [
    "The model's terrible at predicting class 2 and 3"
   ]
  },
  {
   "cell_type": "markdown",
   "metadata": {},
   "source": [
    "# Word2vec"
   ]
  },
  {
   "cell_type": "code",
   "execution_count": 110,
   "metadata": {},
   "outputs": [
    {
     "data": {
      "text/plain": [
       "GRUModel(\n",
       "  (embedding): Embedding(25002, 300)\n",
       "  (encoder): GRU(300, 64)\n",
       "  (decoder): Linear(in_features=64, out_features=4, bias=True)\n",
       ")"
      ]
     },
     "execution_count": 110,
     "metadata": {},
     "output_type": "execute_result"
    }
   ],
   "source": [
    "word2vec_params = {\n",
    "    \"hidden_dim\":64,\n",
    "    \"bi_dir\":False,\n",
    "    \"n_layers\":1,\n",
    "    \"pretrained_embed\":embed_matrix_word2vec\n",
    "}\n",
    "\n",
    "gru_word2vec = gru(**word2vec_params)\n",
    "gru_word2vec.apply(init_weight)     # Xavier intialization"
   ]
  },
  {
   "cell_type": "code",
   "execution_count": 111,
   "metadata": {},
   "outputs": [
    {
     "name": "stdout",
     "output_type": "stream",
     "text": [
      "CUDA is available. Training on GPU.\n"
     ]
    },
    {
     "name": "stderr",
     "output_type": "stream",
     "text": [
      "100%|██████████| 25/25 [02:45<00:00,  6.64s/it]\n"
     ]
    },
    {
     "data": {
      "image/png": "[encoded data removed]",
      "text/plain": [
       "<Figure size 640x480 with 1 Axes>"
      ]
     },
     "metadata": {},
     "output_type": "display_data"
    }
   ],
   "source": [
    "utils.train(gru_word2vec, train_iter, val_iter, \n",
    "            lr=1e-3, num_epochs=25, verbose=False)"
   ]
  },
  {
   "cell_type": "code",
   "execution_count": 77,
   "metadata": {},
   "outputs": [
    {
     "data": {
      "text/plain": [
       "0.4680847386662652"
      ]
     },
     "execution_count": 77,
     "metadata": {},
     "output_type": "execute_result"
    }
   ],
   "source": [
    "utils.calculate_metric(gru_word2vec, test_iter, device=\"cuda\")"
   ]
  }
 ],
 "metadata": {
  "kernelspec": {
   "display_name": "py310_gpu",
   "language": "python",
   "name": "python3"
  },
  "language_info": {
   "codemirror_mode": {
    "name": "ipython",
    "version": 3
   },
   "file_extension": ".py",
   "mimetype": "text/x-python",
   "name": "python",
   "nbconvert_exporter": "python",
   "pygments_lexer": "ipython3",
   "version": "3.10.13"
  }
 },
 "nbformat": 4,
 "nbformat_minor": 2
}
