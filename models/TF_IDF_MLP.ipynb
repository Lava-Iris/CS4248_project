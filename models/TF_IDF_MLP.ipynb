{
  "cells": [
    {
      "cell_type": "code",
      "execution_count": 1,
      "metadata": {
        "colab": {
          "base_uri": "https://localhost:8080/"
        },
        "id": "mzFD6sS-sa_1",
        "outputId": "6268782b-1004-4358-c377-238d4798f824"
      },
      "outputs": [
        {
          "output_type": "stream",
          "name": "stdout",
          "text": [
            "Mounted at /content/drive\n"
          ]
        }
      ],
      "source": [
        "import pandas as pd\n",
        "import numpy as np\n",
        "from google.colab import drive\n",
        "\n",
        "\n",
        "# Mount Google Drive\n",
        "drive.mount('/content/drive')\n",
        "\n",
        "# read train data\n",
        "with open('/content/drive/MyDrive/LUN_data/raw_data/fulltrain.csv', 'r') as file:\n",
        "    train = pd.read_csv(file, names=['class', 'text'])\n",
        "\n",
        "# read test data\n",
        "with open('/content/drive/MyDrive/LUN_data/raw_data/balancedtest.csv', 'r') as file:\n",
        "    test = pd.read_csv(file, names=['class', 'text'])\n",
        "\n",
        "# read stop words\n",
        "with open('/content/drive/MyDrive/LUN_data/raw_data/stopwords_en.txt', 'r') as file:\n",
        "    stop_words = file.read().splitlines()"
      ]
    },
    {
      "cell_type": "markdown",
      "metadata": {
        "id": "9EL4SlEMyj0r"
      },
      "source": [
        "## Feature Engineering"
      ]
    },
    {
      "cell_type": "code",
      "execution_count": 2,
      "metadata": {
        "id": "TgM0E3GZWIPq"
      },
      "outputs": [],
      "source": [
        "def remove_inconsistent(df):\n",
        "    grouped = df.groupby('text')['class']\n",
        "    consistent_duplicates = grouped.transform(lambda x: x.nunique() == 1)\n",
        "    inconsistent_duplicates = df[~consistent_duplicates].copy()\n",
        "    df.drop(inconsistent_duplicates.index, inplace=True)\n",
        "    return df\n",
        "\n",
        "def remove_all_duplicates(df):\n",
        "    return df.drop_duplicates(subset='text', keep='first')\n",
        "\n",
        "# Remove inconsistent entries\n",
        "train = remove_inconsistent(train)\n",
        "\n",
        "# Remove all remaining duplicates\n",
        "train = remove_all_duplicates(train)"
      ]
    },
    {
      "cell_type": "code",
      "execution_count": 8,
      "metadata": {
        "id": "AQn6kNYnWqwb"
      },
      "outputs": [],
      "source": [
        "import re\n",
        "import string\n",
        "import nltk\n",
        "\n",
        "def preprocess_text(text):\n",
        "    \"\"\"\n",
        "    Preprocesses text data:\n",
        "      * Lowercasing\n",
        "      * Removing square brackets and content\n",
        "      * Removing links\n",
        "      * Removing punctuation\n",
        "      * Removing numbers\n",
        "      * Removing stop words\n",
        "      * Stemming (optional)\n",
        "\n",
        "    Args:\n",
        "       text: Input text string\n",
        "\n",
        "    Returns:\n",
        "       Cleaned text string\n",
        "    \"\"\"\n",
        "    text = text.lower()\n",
        "    # text = re.sub('\\[.*?\\]', '', text)\n",
        "    # text = re.sub('https?://\\S+|www\\.\\S+', '', text)\n",
        "    # text = re.sub('<.*?>+', '', text)\n",
        "    text = re.sub('[%s]' % re.escape(string.punctuation), '', text)\n",
        "    text = re.sub('\\n', '', text)\n",
        "    # text = re.sub('\\w*\\d\\w*', '', text)\n",
        "\n",
        "    tokenizer = nltk.tokenize.RegexpTokenizer(r'\\w+')\n",
        "    tokens = tokenizer.tokenize(text)\n",
        "\n",
        "    words = [w for w in tokens if w not in stop_words]\n",
        "\n",
        "    return ' '.join(words)"
      ]
    },
    {
      "cell_type": "code",
      "execution_count": 9,
      "metadata": {
        "id": "9u1_fwqUW4ME"
      },
      "outputs": [],
      "source": [
        "train['text'] = train['text'].apply(preprocess_text)\n",
        "test['text'] = test['text'].apply(preprocess_text)"
      ]
    },
    {
      "cell_type": "code",
      "execution_count": null,
      "metadata": {
        "id": "UexLq5jeXhWq"
      },
      "outputs": [],
      "source": [
        "from sklearn.feature_extraction.text import TfidfVectorizer\n",
        "from sklearn.preprocessing import LabelEncoder\n",
        "\n",
        "from sklearn.model_selection import train_test_split\n",
        "\n",
        "train_data, eval_data = train_test_split(train, test_size=0.2, random_state=42)\n",
        "test_data = test\n",
        "\n",
        "X_train = train['text']\n",
        "X_test = test['text']\n",
        "\n",
        "# Create TF-IDF vectorizer\n",
        "tfidf_vectorizer = TfidfVectorizer(max_features=20000)\n",
        "\n",
        "train_data_X = tfidf_vectorizer.fit_transform(train_data['text'])\n",
        "eval_data_X = tfidf_vectorizer.transform(eval_data['text'])\n",
        "test_data_X = tfidf_vectorizer.transform(test['text'])\n",
        "\n",
        "from sklearn.neural_network import MLPClassifier\n",
        "model = MLPClassifier(hidden_layer_sizes=(100,), max_iter=1000)\n",
        "model.fit(train_data_X, train_data['class'])\n",
        "\n",
        "# # Convert labels to one-hot form\n",
        "# y_train = pd.get_dummies(df['class'])"
      ]
    },
    {
      "cell_type": "code",
      "source": [
        "from sklearn.metrics import accuracy_score, f1_score, precision_score, recall_score, classification_report\n",
        "y_pred = model.predict(eval_data_X)\n",
        "\n",
        "# Calculate metrics\n",
        "accuracy = accuracy_score(eval_data['class'], y_pred)\n",
        "f1 = f1_score(eval_data['class'], y_pred, average='macro')\n",
        "precision = precision_score(eval_data['class'], y_pred, average='macro')\n",
        "recall = recall_score(eval_data['class'], y_pred, average='macro')\n",
        "report = classification_report(eval_data['class'], y_pred)\n",
        "\n",
        "# Print formatted output\n",
        "print(f'Accuracy: {accuracy:.4f}') # 4 decimal places for accuracy\n",
        "print(f'F1 Score (Macro Average): {f1:.4f}')\n",
        "print(f'Precision (Macro Average): {precision:.4f}')\n",
        "print(f'Recall (Macro Average): {recall:.4f}')\n",
        "print('Classification Report:\\n', report)"
      ],
      "metadata": {
        "colab": {
          "base_uri": "https://localhost:8080/"
        },
        "id": "g3b_FR1DfO9X",
        "outputId": "48aebb05-bcd5-4da2-e572-b277a275f5a8"
      },
      "execution_count": 20,
      "outputs": [
        {
          "output_type": "stream",
          "name": "stdout",
          "text": [
            "Accuracy: 0.9617\n",
            "F1 Score (Macro Average): 0.9599\n",
            "Precision (Macro Average): 0.9616\n",
            "Recall (Macro Average): 0.9583\n",
            "Classification Report:\n",
            "               precision    recall  f1-score   support\n",
            "\n",
            "           1       0.96      0.96      0.96      2764\n",
            "           2       0.97      0.96      0.97      1366\n",
            "           3       0.97      0.98      0.97      3594\n",
            "           4       0.95      0.94      0.94      2007\n",
            "\n",
            "    accuracy                           0.96      9731\n",
            "   macro avg       0.96      0.96      0.96      9731\n",
            "weighted avg       0.96      0.96      0.96      9731\n",
            "\n"
          ]
        }
      ]
    },
    {
      "cell_type": "code",
      "execution_count": 21,
      "metadata": {
        "colab": {
          "base_uri": "https://localhost:8080/"
        },
        "id": "Lf6ZcuNbZha6",
        "outputId": "2de740dd-4801-4496-85f9-6071288ca7a9"
      },
      "outputs": [
        {
          "output_type": "stream",
          "name": "stdout",
          "text": [
            "Accuracy: 0.7370\n",
            "F1 Score (Macro Average): 0.7304\n",
            "Precision (Macro Average): 0.7503\n",
            "Recall (Macro Average): 0.7370\n",
            "Classification Report:\n",
            "               precision    recall  f1-score   support\n",
            "\n",
            "           1       0.84      0.78      0.81       750\n",
            "           2       0.78      0.48      0.60       750\n",
            "           3       0.61      0.78      0.69       750\n",
            "           4       0.76      0.91      0.83       750\n",
            "\n",
            "    accuracy                           0.74      3000\n",
            "   macro avg       0.75      0.74      0.73      3000\n",
            "weighted avg       0.75      0.74      0.73      3000\n",
            "\n"
          ]
        }
      ],
      "source": [
        "from sklearn.metrics import accuracy_score, f1_score, precision_score, recall_score, classification_report\n",
        "y_pred = model.predict(test_data_X)\n",
        "\n",
        "accuracy = accuracy_score(test_data['class'], y_pred)\n",
        "f1 = f1_score(test_data['class'], y_pred, average='macro')\n",
        "precision = precision_score(test_data['class'], y_pred, average='macro')\n",
        "recall = recall_score(test_data['class'], y_pred, average='macro')\n",
        "report = classification_report(test_data['class'], y_pred)\n",
        "\n",
        "print(f'Accuracy: {accuracy:.4f}') # 4 decimal places for accuracy\n",
        "print(f'F1 Score (Macro Average): {f1:.4f}')\n",
        "print(f'Precision (Macro Average): {precision:.4f}')\n",
        "print(f'Recall (Macro Average): {recall:.4f}')\n",
        "print('Classification Report:\\n', report)"
      ]
    },
    {
      "cell_type": "code",
      "execution_count": null,
      "metadata": {
        "id": "VPNPUMutYg_C"
      },
      "outputs": [],
      "source": [
        "# train_vectors = pd.DataFrame(X_train, columns=tfidf_vectorizer.get_feature_names_out())\n",
        "# train_vectors.to_csv('fulltrain_tfidf_vectors.csv', index=False)\n",
        "\n",
        "# test_vectors = pd.DataFrame(X_test, columns=tfidf_vectorizer.get_feature_names_out())\n",
        "# test_vectors.to_csv('test_tfidf_vectors.csv', index=False)"
      ]
    }
  ],
  "metadata": {
    "colab": {
      "machine_shape": "hm",
      "provenance": []
    },
    "kernelspec": {
      "display_name": "Python 3",
      "name": "python3"
    },
    "language_info": {
      "codemirror_mode": {
        "name": "ipython",
        "version": 3
      },
      "file_extension": ".py",
      "mimetype": "text/x-python",
      "name": "python",
      "nbconvert_exporter": "python",
      "pygments_lexer": "ipython3",
      "version": "3.10.9"
    }
  },
  "nbformat": 4,
  "nbformat_minor": 0
}