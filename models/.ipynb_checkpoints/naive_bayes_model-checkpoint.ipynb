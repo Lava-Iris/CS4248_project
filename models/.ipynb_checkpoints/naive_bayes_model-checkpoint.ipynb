{
 "cells": [
  {
   "cell_type": "code",
   "execution_count": 23,
   "id": "68f67a2a",
   "metadata": {},
   "outputs": [],
   "source": [
    "import pandas as pd\n",
    "from sklearn.model_selection import train_test_split\n",
    "from sklearn.feature_extraction.text import TfidfVectorizer\n",
    "from sklearn.naive_bayes import MultinomialNB\n",
    "from sklearn.metrics import accuracy_score, classification_report\n"
   ]
  },
  {
   "cell_type": "code",
   "execution_count": 24,
   "id": "b7de5659",
   "metadata": {},
   "outputs": [
    {
     "data": {
      "text/plain": [
       "(48854, 2)"
      ]
     },
     "execution_count": 24,
     "metadata": {},
     "output_type": "execute_result"
    }
   ],
   "source": [
    "data = pd.read_csv('../raw_data/fulltrain.csv', names=['label', 'text'])\n",
    "data.shape"
   ]
  },
  {
   "cell_type": "code",
   "execution_count": 25,
   "id": "19d49897",
   "metadata": {},
   "outputs": [],
   "source": [
    "X_train, X_test, y_train, y_test = train_test_split(data['text'], data['label'], test_size=0.2, random_state=42)"
   ]
  },
  {
   "cell_type": "code",
   "execution_count": 26,
   "id": "e8d3f1e4",
   "metadata": {},
   "outputs": [],
   "source": [
    "n = 1 #change for bigram or trigram\n",
    "\n",
    "#Vectorize the text data using TfidfVectorizer\n",
    "vectorizer = TfidfVectorizer(ngram_range=(1, n))\n",
    "X_train_vectorized = vectorizer.fit_transform(X_train)\n",
    "X_test_vectorized = vectorizer.transform(X_test)"
   ]
  },
  {
   "cell_type": "code",
   "execution_count": 27,
   "id": "268af96b",
   "metadata": {},
   "outputs": [
    {
     "data": {
      "text/plain": [
       "(39083, 202377)"
      ]
     },
     "execution_count": 27,
     "metadata": {},
     "output_type": "execute_result"
    }
   ],
   "source": [
    "X_train_vectorized.shape"
   ]
  },
  {
   "cell_type": "code",
   "execution_count": 28,
   "id": "c004ce83",
   "metadata": {},
   "outputs": [
    {
     "data": {
      "text/plain": [
       "MultinomialNB()"
      ]
     },
     "execution_count": 28,
     "metadata": {},
     "output_type": "execute_result"
    }
   ],
   "source": [
    "#naive bayes classifier\n",
    "nb_classifier = MultinomialNB()\n",
    "nb_classifier.fit(X_train_vectorized, y_train)"
   ]
  },
  {
   "cell_type": "code",
   "execution_count": 29,
   "id": "ca012418",
   "metadata": {},
   "outputs": [
    {
     "name": "stdout",
     "output_type": "stream",
     "text": [
      "              precision    recall  f1-score   support\n",
      "\n",
      "           1       0.84      0.71      0.77      2793\n",
      "           2       0.99      0.08      0.15      1371\n",
      "           3       0.55      1.00      0.71      3587\n",
      "           4       1.00      0.39      0.56      2020\n",
      "\n",
      "    accuracy                           0.66      9771\n",
      "   macro avg       0.84      0.54      0.55      9771\n",
      "weighted avg       0.79      0.66      0.62      9771\n",
      "\n"
     ]
    }
   ],
   "source": [
    "y_pred = nb_classifier.predict(X_test_vectorized)\n",
    "accuracy = accuracy_score(y_test, y_pred)\n",
    "print(classification_report(y_test, y_pred))"
   ]
  },
  {
   "cell_type": "code",
   "execution_count": 32,
   "id": "c9717b7d",
   "metadata": {},
   "outputs": [
    {
     "name": "stdout",
     "output_type": "stream",
     "text": [
      "              precision    recall  f1-score   support\n",
      "\n",
      "           1       0.62      0.32      0.42       750\n",
      "           2       0.80      0.01      0.01       750\n",
      "           3       0.30      1.00      0.47       750\n",
      "           4       1.00      0.20      0.33       750\n",
      "\n",
      "    accuracy                           0.38      3000\n",
      "   macro avg       0.68      0.38      0.31      3000\n",
      "weighted avg       0.68      0.38      0.31      3000\n",
      "\n"
     ]
    }
   ],
   "source": [
    "#checking with balancedtest\n",
    "\n",
    "test_data = pd.read_csv('../raw_data/balancedtest.csv', names=['label', 'text'])\n",
    "X_test_main = vectorizer.transform(test_data['text'])\n",
    "Y_test_main = test_data['label']\n",
    "\n",
    "y_pred_main = nb_classifier.predict(X_test_main)\n",
    "print(classification_report(Y_test_main, y_pred_main))"
   ]
  },
  {
   "cell_type": "code",
   "execution_count": null,
   "id": "74c92435",
   "metadata": {},
   "outputs": [],
   "source": []
  }
 ],
 "metadata": {
  "kernelspec": {
   "display_name": "Python 3 (ipykernel)",
   "language": "python",
   "name": "python3"
  },
  "language_info": {
   "codemirror_mode": {
    "name": "ipython",
    "version": 3
   },
   "file_extension": ".py",
   "mimetype": "text/x-python",
   "name": "python",
   "nbconvert_exporter": "python",
   "pygments_lexer": "ipython3",
   "version": "3.9.9"
  }
 },
 "nbformat": 4,
 "nbformat_minor": 5
}
