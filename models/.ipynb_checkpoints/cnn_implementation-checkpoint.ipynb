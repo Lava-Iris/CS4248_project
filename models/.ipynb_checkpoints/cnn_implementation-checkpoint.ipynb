{
 "cells": [
  {
   "cell_type": "code",
   "execution_count": null,
   "id": "914efc1b",
   "metadata": {},
   "outputs": [],
   "source": [
    "import torch\n",
    "import torch.nn as nn\n",
    "import torch.optim as optim\n",
    "import pandas as pd\n",
    "import numpy as np\n",
    "from torch.utils.data import TensorDataset, DataLoader"
   ]
  },
  {
   "cell_type": "code",
   "execution_count": null,
   "id": "e292490f",
   "metadata": {},
   "outputs": [],
   "source": [
    "glove = pd.read_pickle('../processed_data/glove.pickle')\n",
    "vocab = torch.load('../processed_data/remove-stopwords-punct-25000.vocab')"
   ]
  },
  {
   "cell_type": "code",
   "execution_count": null,
   "id": "4bc2bce4",
   "metadata": {},
   "outputs": [],
   "source": [
    "data = pd.read_csv('../raw_data/fulltrain.csv', names=['label', 'text'])"
   ]
  },
  {
   "cell_type": "code",
   "execution_count": null,
   "id": "9955cb81",
   "metadata": {},
   "outputs": [],
   "source": [
    "# Hyperparameters\n",
    "sequence_length = 100\n",
    "input_size = 300\n",
    "output_size = 4\n",
    "batch_size = 100\n",
    "num_epochs = 10\n"
   ]
  },
  {
   "cell_type": "code",
   "execution_count": null,
   "id": "b0589860",
   "metadata": {},
   "outputs": [],
   "source": [
    "# Convert text to sequences of GloVe embeddings\n",
    "def text_to_sequence(text):\n",
    "    sequence = []\n",
    "    for word in text.split()[:sequence_length]:\n",
    "        if word in vocab:\n",
    "            sequence.append(glove[vocab[word]])\n",
    "    sequence = sequence[:sequence_length] + [np.zeros(300)] * (sequence_length - len(sequence))\n",
    "    return np.array(sequence)"
   ]
  },
  {
   "cell_type": "code",
   "execution_count": null,
   "id": "689a9908",
   "metadata": {},
   "outputs": [],
   "source": [
    "# Process text data in batches\n",
    "sequences = []\n",
    "for i in range(0, len(data), batch_size):\n",
    "    batch_texts = data['text'][i:i+batch_size]\n",
    "    batch_sequences = np.array(batch_texts.apply(text_to_sequence).tolist())\n",
    "    sequences.extend(batch_sequences)\n"
   ]
  },
  {
   "cell_type": "code",
   "execution_count": null,
   "id": "252bf17e",
   "metadata": {},
   "outputs": [],
   "source": [
    "# Convert labels to one-hot encoding\n",
    "labels = pd.get_dummies(data['label']).values\n"
   ]
  },
  {
   "cell_type": "code",
   "execution_count": null,
   "id": "a138d21d",
   "metadata": {},
   "outputs": [],
   "source": [
    "# Define the CNN model\n",
    "class CNNModel(nn.Module):\n",
    "    def __init__(self, input_size, output_size):\n",
    "        super(CNNModel, self).__init__()\n",
    "        self.conv1 = nn.Conv1d(input_size, 256, kernel_size=3, padding=1)\n",
    "        self.conv2 = nn.Conv1d(256, 128, kernel_size=3, padding=1)\n",
    "        self.fc = nn.Linear(128 * sequence_length, output_size)\n",
    "        self.softmax = nn.Softmax(dim=1)\n",
    "\n",
    "    def forward(self, x):\n",
    "        x = x.transpose(1, 2)  # Reshape for Conv1d input (B, C, L)\n",
    "        x = torch.relu(self.conv1(x))\n",
    "        x = torch.relu(self.conv2(x))\n",
    "        x = x.view(x.size(0), -1)  # Flatten\n",
    "        x = self.fc(x)\n",
    "        return x"
   ]
  },
  {
   "cell_type": "code",
   "execution_count": null,
   "id": "48c0acd8",
   "metadata": {},
   "outputs": [],
   "source": [
    "# Instantiate the CNN model\n",
    "model = CNNModel(input_size, output_size)\n",
    "\n",
    "# Define loss and optimizer\n",
    "criterion = nn.CrossEntropyLoss()\n",
    "optimizer = optim.Adam(model.parameters(), lr=0.001)\n",
    "\n",
    "# Prepare dataset and data loader\n",
    "train_dataset = TensorDataset(torch.tensor(sequences).float(), torch.tensor(np.argmax(labels, axis=1)).long())\n",
    "train_loader = DataLoader(train_dataset, batch_size=batch_size, shuffle=True)\n"
   ]
  },
  {
   "cell_type": "code",
   "execution_count": null,
   "id": "7b9e1660",
   "metadata": {},
   "outputs": [],
   "source": [
    "# Function for training the CNN model\n",
    "def train(model, criterion, optimizer, train_loader, num_epochs):\n",
    "    model.train()\n",
    "    for epoch in range(num_epochs):\n",
    "        for i, (embeddings, labels) in enumerate(train_loader):\n",
    "            optimizer.zero_grad()\n",
    "            outputs = model(embeddings)\n",
    "            loss = criterion(outputs, labels)\n",
    "            loss.backward()\n",
    "            optimizer.step()\n",
    "            if (i+1) % 10 == 0:\n",
    "                print(f'Epoch [{epoch+1}/{num_epochs}], Step [{i+1}/{len(train_loader)}], Loss: {loss.item()}')\n",
    "\n",
    "# Train the CNN model\n",
    "train(model, criterion, optimizer, train_loader, num_epochs)\n"
   ]
  }
 ],
 "metadata": {
  "kernelspec": {
   "display_name": "Python 3 (ipykernel)",
   "language": "python",
   "name": "python3"
  },
  "language_info": {
   "codemirror_mode": {
    "name": "ipython",
    "version": 3
   },
   "file_extension": ".py",
   "mimetype": "text/x-python",
   "name": "python",
   "nbconvert_exporter": "python",
   "pygments_lexer": "ipython3",
   "version": "3.9.9"
  }
 },
 "nbformat": 4,
 "nbformat_minor": 5
}
